{
 "cells": [
  {
   "cell_type": "code",
   "execution_count": 17,
   "metadata": {},
   "outputs": [],
   "source": [
    "import numpy as np\n",
    "import pandas as pd"
   ]
  },
  {
   "cell_type": "markdown",
   "metadata": {},
   "source": [
    "# 0_CIC-IDS-2017"
   ]
  },
  {
   "cell_type": "code",
   "execution_count": 18,
   "metadata": {},
   "outputs": [],
   "source": [
    "# Best model: Pipeline(steps=[('classifier', DecisionTreeClassifier(max_depth=15))])\n",
    "# Train Accuracy: 0.99776\n",
    "# Average Time to Fit (s): 82.952\n",
    "# Average Time to Score (s): 0.177\n",
    "# Test Accuracy: 0.997829"
   ]
  },
  {
   "cell_type": "code",
   "execution_count": 19,
   "metadata": {},
   "outputs": [],
   "source": [
    "# Decision Tree\n",
    "\n",
    "# Best model: Pipeline(steps=[('select',\n",
    "#                  SelectFromModel(estimator=DecisionTreeClassifier(),\n",
    "#                                  max_features=20)),\n",
    "#                 ('classifier', DecisionTreeClassifier(max_depth=15))])\n",
    "# Train Accuracy: 0.998147\n",
    "# Average Time to Fit (s): 55.443\n",
    "# Average Time to Score (s): 0.103\n",
    "# Test Accuracy: 0.998184\n",
    "# Number of features: 7\n",
    "# Index([' Destination Port', ' Bwd Packet Length Std', ' Max Packet Length',\n",
    "#        ' Average Packet Size', ' Subflow Bwd Packets',\n",
    "#        'Init_Win_bytes_forward', ' Init_Win_bytes_backward'],\n",
    "#       dtype='object')"
   ]
  },
  {
   "cell_type": "markdown",
   "metadata": {},
   "source": [
    "## Selected Features\n",
    "* Destination Port: Destination Port\n",
    "* Bwd Packet Length Std: Standard deviation size of packet in backward direction\n",
    "* Max Packet Length: Maximum length of a flow\n",
    "* Average Packet Size: Mean length of a flow\n",
    "* Subflow Bwd Packets: The average number of packets in a sub flow in the backward direction\n",
    "* Init_Win_bytes_forward: Number of bytes sent in initial window in the forward direction\n",
    "* Init_Win_bytes_backward: # of bytes sent in initial window in the backward direction"
   ]
  },
  {
   "cell_type": "markdown",
   "metadata": {},
   "source": [
    "## Selected Features\n",
    "\n",
    "No information on features"
   ]
  },
  {
   "cell_type": "markdown",
   "metadata": {},
   "source": [
    "# 1_UNSW-NB15"
   ]
  },
  {
   "cell_type": "code",
   "execution_count": 20,
   "metadata": {},
   "outputs": [],
   "source": [
    "# Best model: Pipeline(steps=[('classifier', KNeighborsClassifier(n_neighbors=1))])\n",
    "# Train Accuracy: 0.998719\n",
    "# Average Time to Fit (s): 0.465\n",
    "# Average Time to Score (s): 6091.335\n",
    "# Test Accuracy: 0.999248"
   ]
  },
  {
   "cell_type": "code",
   "execution_count": 21,
   "metadata": {},
   "outputs": [],
   "source": [
    "# P-value\n",
    "\n",
    "# Best model: Pipeline(steps=[('select', SelectKBest(k=15)),\n",
    "#                 ('classifier', KNeighborsClassifier(n_neighbors=1))])\n",
    "# Train Accuracy: 0.998847\n",
    "# Average Time to Fit (s): 1742.708\n",
    "# Average Time to Score (s): 1355.936\n",
    "# Test Accuracy: 0.999369\n",
    "# Number of features: 15\n",
    "# Index(['state', 'sttl', 'dttl', 'Sload', 'Dload', 'swin', 'dmeansz', 'Stime',\n",
    "#        'Ltime', 'tcprtt', 'synack', 'ackdat', 'ct_state_ttl',\n",
    "#        'ct_src_dport_ltm', 'ct_dst_sport_ltm'],\n",
    "#       dtype='object')"
   ]
  },
  {
   "cell_type": "markdown",
   "metadata": {},
   "source": [
    "## Selected Features\n",
    "\n",
    "* state: Indicates to the state and its dependent protocol\n",
    "* sttl: Source to destintation time to live value\n",
    "* dttl: Destination to source time to live value\n",
    "* Sload: Source bits per second\n",
    "* Dload: Destination bits per second\n",
    "* swin: Source TCP windows advertisement value\n",
    "* dmeansz: Mean of ?ow packet size transmitted by the dst\n",
    "* Stime: record start time\n",
    "* Ltime: record last time\n",
    "* tcprtt: \"TCP connection setup rount-trip time, the sum of synack and ackdat\"\n",
    "* synack: \"TCP connection setup time the tome between the SYN and the SYN_ACK packets\"\n",
    "* ackdat: \"TCP connection setup time the tome between the SYN_ACK and the ACK packets\"\n",
    "* ct_state_ttl: No. for each state (6) according to specific range of values for source/destination time to live (10) (11)\n",
    "* ct_src_dport_ltm: No. of connections of the same source address (2) and the destination port (4) in 100 connections according to the last time (26)\n",
    "* ct_dst_sport_ltm: No. of connections of the same destination address (3) and the source port (2) in 100 connections according to the last time (26)"
   ]
  },
  {
   "cell_type": "markdown",
   "metadata": {},
   "source": [
    "# 2_NF-UNSW-NB15-v2"
   ]
  },
  {
   "cell_type": "code",
   "execution_count": 22,
   "metadata": {},
   "outputs": [],
   "source": [
    "# Best model: Pipeline(steps=[('classifier', DecisionTreeClassifier(max_depth=13))])\n",
    "# Train Accuracy: 0.997299\n",
    "# Average Time to Fit (s): 15.161\n",
    "# Average Time to Score (s): 0.082\n",
    "# Test Accuracy: 0.997378"
   ]
  },
  {
   "cell_type": "code",
   "execution_count": 23,
   "metadata": {},
   "outputs": [],
   "source": [
    "# Best model: Pipeline(steps=[('select',\n",
    "#                  SelectKBest(k=15,\n",
    "#                              score_func=<function execute_feature_selection.<locals>.correlation at 0x7fdabaf750d0>)),\n",
    "#                 ('classifier', DecisionTreeClassifier(max_depth=13))])\n",
    "# Train Accuracy: 0.997077\n",
    "# Average Time to Fit (s): 12.131\n",
    "# Average Time to Score (s): 0.075\n",
    "# Test Accuracy: 0.997219\n",
    "# Number of features: 15\n",
    "# Index(['L4_DST_PORT', 'PROTOCOL', 'TCP_FLAGS', 'CLIENT_TCP_FLAGS',\n",
    "#        'SERVER_TCP_FLAGS', 'MIN_TTL', 'MAX_TTL', 'LONGEST_FLOW_PKT',\n",
    "#        'SHORTEST_FLOW_PKT', 'MIN_IP_PKT_LEN', 'MAX_IP_PKT_LEN',\n",
    "#        'DST_TO_SRC_AVG_THROUGHPUT', 'NUM_PKTS_UP_TO_128_BYTES',\n",
    "#        'TCP_WIN_MAX_IN', 'DNS_QUERY_TYPE'],\n",
    "#       dtype='object')"
   ]
  },
  {
   "cell_type": "markdown",
   "metadata": {},
   "source": [
    "## Selected features\n",
    "\n",
    "* L4_DST_PORT: IPv4 destination port number\n",
    "* PROTOCOL: IP protocol identifier byte\n",
    "* TCP_FLAGS: Cumulative of all TCP flags\n",
    "* CLIENT_TCP_FLAGS: Cumulative of all client TCP flags\n",
    "* SERVER_TCP_FLAGS: Cumulative of all server TCP flags\n",
    "* MIN_TTL: Min flow TTL\n",
    "* MAX_TTL: Max flow TTL\n",
    "* LONGEST_FLOW_PKT: Longest packet (bytes) of the flow\n",
    "* SHORTEST_FLOW_PKT: Shortest packet (bytes) of the flow\n",
    "* MIN_IP_PKT_LEN: Len of the smallest flow IP packet observed\n",
    "* MAX_IP_PKT_LEN: Len of the largest flow IP packet observed\n",
    "* DST_TO_SRC_AVG_THROUGHPUT: Dst to src average thpt (bps)\n",
    "* NUM_PKTS_UP_TO_128_BYTES: Packets whose IP size <= 128\n",
    "* TCP_WIN_MAX_IN: Max TCP Window (src->dst)\n",
    "* DNS_QUERY_TYPE: DNS query type (e.g. 1=A, 2=NS..)\n"
   ]
  },
  {
   "cell_type": "markdown",
   "metadata": {},
   "source": [
    "# 3_CSE-CIC-IDS2018"
   ]
  },
  {
   "cell_type": "code",
   "execution_count": 24,
   "metadata": {},
   "outputs": [],
   "source": [
    "# Best model: Pipeline(steps=[('classifier', KNeighborsClassifier(n_neighbors=1))])\n",
    "# Train Accuracy: 0.99998\n",
    "# Average Time to Fit (s): 0.313\n",
    "# Average Time to Score (s): 2167.179\n",
    "# Test Accuracy: 0.999992"
   ]
  },
  {
   "cell_type": "code",
   "execution_count": 25,
   "metadata": {},
   "outputs": [],
   "source": [
    "# Decision Tree\n",
    "\n",
    "# Best model: Pipeline(steps=[('select',\n",
    "#                  SelectFromModel(estimator=DecisionTreeClassifier(),\n",
    "#                                  max_features=20)),\n",
    "#                 ('classifier', KNeighborsClassifier(n_neighbors=3))])\n",
    "# Train Accuracy: 0.999623\n",
    "# Average Time to Fit (s): 124.647\n",
    "# Average Time to Score (s): 110.407\n",
    "# Test Accuracy: 0.999606\n",
    "# Number of features: 2\n",
    "# Index(['Dst Port', 'Bwd Seg Size Avg'], dtype='object')"
   ]
  },
  {
   "cell_type": "markdown",
   "metadata": {},
   "source": [
    "## Selected Features\n",
    "\n",
    "* Dst Port: Destination port\n",
    "* Bwd Seg Size Avg: Average size observed in the backward direction"
   ]
  },
  {
   "cell_type": "markdown",
   "metadata": {},
   "source": [
    "# 4_NSL-KDD"
   ]
  },
  {
   "cell_type": "code",
   "execution_count": 26,
   "metadata": {},
   "outputs": [],
   "source": [
    "# Best model: Pipeline(steps=[('classifier', DecisionTreeClassifier(max_depth=15))])\n",
    "# Train Accuracy: 0.992378\n",
    "# Average Time to Fit (s): 1.309\n",
    "# Average Time to Score (s): 0.016\n",
    "# Test Accuracy: 0.992028"
   ]
  },
  {
   "cell_type": "code",
   "execution_count": 27,
   "metadata": {},
   "outputs": [],
   "source": [
    "# Best model: Pipeline(steps=[('select', SelectKBest(k=20)),\n",
    "#                 ('classifier', DecisionTreeClassifier(max_depth=15))])\n",
    "# Train Accuracy: 0.987799\n",
    "# Average Time to Fit (s): 0.637\n",
    "# Average Time to Score (s): 0.011\n",
    "# Test Accuracy: 0.988123\n",
    "# Number of features: 20\n",
    "# Index(['protocol_type', 'service', 'flag', 'logged_in', 'count', 'serror_rate',\n",
    "#        'srv_serror_rate', 'rerror_rate', 'srv_rerror_rate', 'same_srv_rate',\n",
    "#        'diff_srv_rate', 'srv_diff_host_rate', 'dst_host_count',\n",
    "#        'dst_host_srv_count', 'dst_host_same_srv_rate',\n",
    "#        'dst_host_diff_srv_rate', 'dst_host_serror_rate',\n",
    "#        'dst_host_srv_serror_rate', 'dst_host_rerror_rate',\n",
    "#        'dst_host_srv_rerror_rate'],\n",
    "#       dtype='object')"
   ]
  },
  {
   "cell_type": "markdown",
   "metadata": {},
   "source": [
    "## Selected Features\n",
    "\n",
    "* protocol_type: Protocol used in the connection\n",
    "* service: Destination network service used\n",
    "* flag: Status of the connection – Normal or Error\n",
    "* logged_in: Login Status : 1 if successfully logged in; 0 otherwise\n",
    "* count: Number of connections to the same destination host as the current connection in the past two seconds\n",
    "* serror_rate: The percentage of connections that have activated the flag (4) s0, s1, s2 or s3, among the connections aggregated in count (23)\n",
    "* rerror_rate: The percentage of connections that have activated the flag (4) REJ, among the connections aggregated in count (23)\n",
    "* srv_serror_rate: The percentage of connections that have activated the flag (4) s0, s1, s2 or s3, among the connections aggregated in srv_count (24)\n",
    "* same_srv_rate: The percentage of connections that were to the same service, among the connections aggregated in count (23)\n",
    "* diff_srv_rate: The percentage of connections that were to different services, among the connections aggregated in count (23)\n",
    "* srv_diff_host_rate: The percentage of connections that were to different destination machines among the connections aggregated in srv_count (24)\n",
    "* dst_host_count: Number of connections having the same destination host IP address\n",
    "* dst_host_srv_count: Number of connections having the same port number\n",
    "* dst_host_same_srv_rate: The percentage of connections that were to different services, among the connections aggregated in dst_host_count (32)\n",
    "* dst_host_diff_srv_rate: The percentage of connections that were to different services, among the connections aggregated in dst_host_count (32)\n",
    "* dst_host_serror_rate: The percentage of connections that have activated the flag (4) s0, s1, s2 or s3, among the connections aggregated in dst_host_count (32)\n",
    "* dst_host_srv_serror_rate: The percent of connections that have activated the flag (4) s0, s1, s2 or s3, among the connections aggregated in dst_host_srv_count (33)\n",
    "* dst_host_rerror_rate: The percentage of connections that have activated the flag (4) REJ, among the connections aggregated in dst_host_count (32)\n",
    "* dst_host_srv_rerror_rate: The percentage of connections that have activated the flag (4) REJ, among the connections aggregated in dst_host_srv_count (33)"
   ]
  },
  {
   "cell_type": "markdown",
   "metadata": {},
   "source": [
    "# Similaridades"
   ]
  },
  {
   "cell_type": "markdown",
   "metadata": {},
   "source": [
    "## Tamaño de los paquetes\n",
    "\n",
    "// 0\n",
    "* Max Packet Length: Maximum length of a flow\n",
    "* Average Packet Size: Mean length of a flow\n",
    "\n",
    "// 1\n",
    "* Sload: Source bits per second\n",
    "* Dload: Destination bits per second\n",
    "* dmeansz: Mean of ?ow packet size transmitted by the dst\n",
    "\n",
    "// 2\n",
    "* LONGEST_FLOW_PKT: Longest packet (bytes) of the flow\n",
    "* SHORTEST_FLOW_PKT: Shortest packet (bytes) of the flow\n",
    "* DST_TO_SRC_AVG_THROUGHPUT: Dst to src average thpt (bps)\n",
    "\n",
    "// 3\n",
    "* Bwd Seg Size Avg: Average size observed in the backward direction\n",
    "\n",
    "// 4\n"
   ]
  },
  {
   "cell_type": "markdown",
   "metadata": {},
   "source": [
    "## Bytes enviados de la ventana inicial\n",
    "\n",
    "// 0\n",
    "* Init_Win_bytes_forward: Number of bytes sent in initial window in the forward direction\n",
    "* Init_Win_bytes_backward: # of bytes sent in initial window in the backward direction\n",
    "\n",
    "// 1\n",
    "* swin: Source TCP windows advertisement value\n",
    "\n",
    "// 2\n",
    "* TCP_WIN_MAX_IN: Max TCP Window (src->dst)\n",
    "\n",
    "// 3\n",
    "\n",
    "\n",
    "// 4\n"
   ]
  },
  {
   "cell_type": "markdown",
   "metadata": {},
   "source": [
    "## Puerto de destino\n",
    "\n",
    "// 0\n",
    "* Destination Port: Destination Port\n",
    "\n",
    "// 1\n",
    "\n",
    "\n",
    "// 2\n",
    "* L4_DST_PORT: IPv4 destination port number\n",
    "\n",
    "// 3\n",
    "* Dst Port: Destination port\n",
    "\n",
    "// 4\n"
   ]
  },
  {
   "cell_type": "markdown",
   "metadata": {},
   "source": [
    "## Connecciones repetidas\n",
    "\n",
    "// 0\n",
    "\n",
    "\n",
    "// 1\n",
    "* ct_src_dport_ltm: No. of connections of the same source address (2) and the destination port (4) in 100 connections according to the last time (26)\n",
    "* ct_dst_sport_ltm: No. of connections of the same destination address (3) and the source port (2) in 100 connections according to the last time (26)\n",
    "\n",
    "// 2\n",
    "\n",
    "\n",
    "// 3\n",
    "\n",
    "\n",
    "// 4\n",
    "* dst_host_count: Number of connections having the same destination host IP address"
   ]
  },
  {
   "cell_type": "markdown",
   "metadata": {},
   "source": []
  }
 ],
 "metadata": {
  "kernelspec": {
   "display_name": "Python 3.9.13 64-bit",
   "language": "python",
   "name": "python3"
  },
  "language_info": {
   "codemirror_mode": {
    "name": "ipython",
    "version": 3
   },
   "file_extension": ".py",
   "mimetype": "text/x-python",
   "name": "python",
   "nbconvert_exporter": "python",
   "pygments_lexer": "ipython3",
   "version": "3.9.13 (tags/v3.9.13:6de2ca5, May 17 2022, 16:36:42) [MSC v.1929 64 bit (AMD64)]"
  },
  "orig_nbformat": 4,
  "vscode": {
   "interpreter": {
    "hash": "b5e66119bb7eb320cb615f17e3cf77c9243e0a63123323491c6aa600a9594b9f"
   }
  }
 },
 "nbformat": 4,
 "nbformat_minor": 2
}
