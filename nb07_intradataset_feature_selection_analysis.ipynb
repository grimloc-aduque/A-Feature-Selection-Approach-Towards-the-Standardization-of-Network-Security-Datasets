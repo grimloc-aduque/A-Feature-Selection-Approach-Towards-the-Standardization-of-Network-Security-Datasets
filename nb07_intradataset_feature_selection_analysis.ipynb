{
 "cells": [
  {
   "cell_type": "code",
   "execution_count": 6,
   "metadata": {},
   "outputs": [],
   "source": [
    "import numpy as np\n",
    "import pandas as pd\n",
    "from collections import Counter"
   ]
  },
  {
   "cell_type": "code",
   "execution_count": 19,
   "metadata": {},
   "outputs": [],
   "source": [
    "def count_features():\n",
    "    all_features = features_corr + features_pvalue + features_dtree + features_lr + features_svc\n",
    "    counts = Counter(all_features).most_common()\n",
    "    print(counts)"
   ]
  },
  {
   "cell_type": "markdown",
   "metadata": {},
   "source": [
    "# 0_CIC-IDS-2017"
   ]
  },
  {
   "cell_type": "code",
   "execution_count": 20,
   "metadata": {},
   "outputs": [
    {
     "name": "stdout",
     "output_type": "stream",
     "text": [
      "[(' Max Packet Length', 5), (' Average Packet Size', 5), (' Flow IAT Max', 4), (' Packet Length Variance', 4), (' Idle Max', 4), ('Bwd Packet Length Max', 3), (' Bwd Packet Length Mean', 3), (' Bwd Packet Length Std', 3), (' Fwd IAT Max', 3), (' Packet Length Mean', 3), (' Avg Bwd Segment Size', 3), (' Idle Min', 3), (' Fwd IAT Std', 2), (' Packet Length Std', 2), ('Idle Mean', 2), (' Init_Win_bytes_backward', 2), (' Fwd Packet Length Max', 2), (' Fwd Packet Length Std', 2), (' Flow IAT Std', 2), (' Down/Up Ratio', 2), (' Destination Port', 1), (' Subflow Bwd Packets', 1), ('Init_Win_bytes_forward', 1), (' Fwd Packet Length Mean', 1), ('Bwd IAT Total', 1), (' Avg Fwd Segment Size', 1), ('Flow Bytes/s', 1), (' Flow IAT Mean', 1), (' Flow IAT Min', 1), (' Fwd IAT Mean', 1), (' Fwd IAT Min', 1), (' Active Std', 1), (' Active Max', 1), (' Idle Std', 1)]\n"
     ]
    }
   ],
   "source": [
    "features_corr = ['Bwd Packet Length Max', ' Bwd Packet Length Mean',\n",
    "       ' Bwd Packet Length Std', ' Flow IAT Max', ' Fwd IAT Std',\n",
    "       ' Fwd IAT Max', ' Max Packet Length', ' Packet Length Mean',\n",
    "       ' Packet Length Std', ' Packet Length Variance', ' Average Packet Size',\n",
    "       ' Avg Bwd Segment Size', 'Idle Mean', ' Idle Max', ' Idle Min']\n",
    "\n",
    "features_pvalue = ['Bwd Packet Length Max', ' Bwd Packet Length Mean',\n",
    "       ' Bwd Packet Length Std', ' Flow IAT Max', ' Fwd IAT Std',\n",
    "       ' Fwd IAT Max', ' Max Packet Length', ' Packet Length Mean',\n",
    "       ' Packet Length Std', ' Packet Length Variance', ' Average Packet Size',\n",
    "       ' Avg Bwd Segment Size', 'Idle Mean', ' Idle Max', ' Idle Min']\n",
    "\n",
    "features_dtree = [' Destination Port', ' Bwd Packet Length Std', ' Max Packet Length',\n",
    "       ' Average Packet Size', ' Subflow Bwd Packets',\n",
    "       'Init_Win_bytes_forward', ' Init_Win_bytes_backward']\n",
    "\n",
    "features_lr = [' Fwd Packet Length Max', ' Fwd Packet Length Mean',\n",
    "       ' Fwd Packet Length Std', 'Bwd Packet Length Max',\n",
    "       ' Bwd Packet Length Mean', ' Flow IAT Std', ' Flow IAT Max',\n",
    "       'Bwd IAT Total', ' Max Packet Length', ' Packet Length Variance',\n",
    "       ' Down/Up Ratio', ' Average Packet Size', ' Avg Fwd Segment Size',\n",
    "       ' Avg Bwd Segment Size', ' Init_Win_bytes_backward', ' Idle Max']\n",
    "\n",
    "features_svc = [' Fwd Packet Length Max', ' Fwd Packet Length Std', 'Flow Bytes/s',\n",
    "       ' Flow IAT Mean', ' Flow IAT Std', ' Flow IAT Max', ' Flow IAT Min',\n",
    "       ' Fwd IAT Mean', ' Fwd IAT Max', ' Fwd IAT Min', ' Max Packet Length',\n",
    "       ' Packet Length Mean', ' Packet Length Variance', ' Down/Up Ratio',\n",
    "       ' Average Packet Size', ' Active Std', ' Active Max', ' Idle Std',\n",
    "       ' Idle Max', ' Idle Min']\n",
    "\n",
    "count_features()"
   ]
  },
  {
   "cell_type": "markdown",
   "metadata": {},
   "source": [
    "# 1_UNSW-NB15"
   ]
  },
  {
   "cell_type": "code",
   "execution_count": 21,
   "metadata": {},
   "outputs": [
    {
     "name": "stdout",
     "output_type": "stream",
     "text": [
      "[('ct_state_ttl', 5), ('state', 4), ('dttl', 4), ('swin', 4), ('dmeansz', 4), ('tcprtt', 4), ('synack', 4), ('ct_dst_sport_ltm', 4), ('sttl', 3), ('Sload', 2), ('Dload', 2), ('Stime', 2), ('Ltime', 2), ('ackdat', 2), ('ct_src_dport_ltm', 2), ('service', 2), ('Sintpkt', 2), ('sbytes', 1), ('dbytes', 1), ('sloss', 1), ('res_bdy_len', 1), ('Djit', 1)]\n"
     ]
    }
   ],
   "source": [
    "features_corr = ['state', 'sttl', 'dttl', 'Sload', 'Dload', 'swin', 'dmeansz', 'Stime',\n",
    "       'Ltime', 'tcprtt', 'synack', 'ackdat', 'ct_state_ttl',\n",
    "       'ct_src_dport_ltm', 'ct_dst_sport_ltm']\n",
    "\n",
    "features_pvalue = ['state', 'sttl', 'dttl', 'Sload', 'Dload', 'swin', 'dmeansz', 'Stime',\n",
    "       'Ltime', 'tcprtt', 'synack', 'ackdat', 'ct_state_ttl',\n",
    "       'ct_src_dport_ltm', 'ct_dst_sport_ltm']\n",
    "\n",
    "features_dtree = ['sttl', 'ct_state_ttl']\n",
    "\n",
    "features_lr = ['state', 'dttl', 'service', 'swin', 'dmeansz', 'Sintpkt', 'tcprtt',\n",
    "       'synack', 'ct_state_ttl', 'ct_dst_sport_ltm']\n",
    "\n",
    "features_svc = ['state', 'sbytes', 'dbytes', 'dttl', 'sloss', 'service', 'swin',\n",
    "       'dmeansz', 'res_bdy_len', 'Djit', 'Sintpkt', 'tcprtt', 'synack',\n",
    "       'ct_state_ttl', 'ct_dst_sport_ltm']\n",
    "\n",
    "count_features()"
   ]
  },
  {
   "cell_type": "markdown",
   "metadata": {},
   "source": [
    "# 2_NF-UNSW-NB15-v2"
   ]
  },
  {
   "cell_type": "code",
   "execution_count": 22,
   "metadata": {},
   "outputs": [
    {
     "name": "stdout",
     "output_type": "stream",
     "text": [
      "[('L4_DST_PORT', 4), ('PROTOCOL', 4), ('CLIENT_TCP_FLAGS', 4), ('SERVER_TCP_FLAGS', 4), ('MIN_TTL', 4), ('MAX_TTL', 4), ('MIN_IP_PKT_LEN', 4), ('TCP_FLAGS', 3), ('DST_TO_SRC_AVG_THROUGHPUT', 3), ('NUM_PKTS_UP_TO_128_BYTES', 3), ('TCP_WIN_MAX_IN', 3), ('LONGEST_FLOW_PKT', 2), ('SHORTEST_FLOW_PKT', 2), ('MAX_IP_PKT_LEN', 2), ('DNS_QUERY_TYPE', 2), ('DURATION_IN', 2), ('NUM_PKTS_128_TO_256_BYTES', 1), ('OUT_PKTS', 1), ('DURATION_OUT', 1), ('DST_TO_SRC_SECOND_BYTES', 1), ('RETRANSMITTED_IN_PKTS', 1), ('RETRANSMITTED_OUT_PKTS', 1), ('NUM_PKTS_256_TO_512_BYTES', 1), ('NUM_PKTS_512_TO_1024_BYTES', 1), ('DNS_TTL_ANSWER', 1)]\n"
     ]
    }
   ],
   "source": [
    "features_corr = ['L4_DST_PORT', 'PROTOCOL', 'TCP_FLAGS', 'CLIENT_TCP_FLAGS',\n",
    "       'SERVER_TCP_FLAGS', 'MIN_TTL', 'MAX_TTL', 'LONGEST_FLOW_PKT',\n",
    "       'SHORTEST_FLOW_PKT', 'MIN_IP_PKT_LEN', 'MAX_IP_PKT_LEN',\n",
    "       'DST_TO_SRC_AVG_THROUGHPUT', 'NUM_PKTS_UP_TO_128_BYTES',\n",
    "       'TCP_WIN_MAX_IN', 'DNS_QUERY_TYPE']\n",
    "\n",
    "features_pvalue = ['L4_DST_PORT', 'PROTOCOL', 'TCP_FLAGS', 'CLIENT_TCP_FLAGS',\n",
    "       'SERVER_TCP_FLAGS', 'MIN_TTL', 'MAX_TTL', 'LONGEST_FLOW_PKT',\n",
    "       'SHORTEST_FLOW_PKT', 'MIN_IP_PKT_LEN', 'MAX_IP_PKT_LEN',\n",
    "       'DST_TO_SRC_AVG_THROUGHPUT', 'NUM_PKTS_UP_TO_128_BYTES',\n",
    "       'TCP_WIN_MAX_IN', 'DNS_QUERY_TYPE']\n",
    "\n",
    "features_dtree = ['MIN_TTL', 'TCP_WIN_MAX_IN']\n",
    "\n",
    "features_lr = ['L4_DST_PORT', 'PROTOCOL', 'TCP_FLAGS', 'CLIENT_TCP_FLAGS',\n",
    "       'SERVER_TCP_FLAGS', 'DURATION_IN', 'MIN_TTL', 'MAX_TTL',\n",
    "       'MIN_IP_PKT_LEN', 'DST_TO_SRC_AVG_THROUGHPUT',\n",
    "       'NUM_PKTS_128_TO_256_BYTES']\n",
    "\n",
    "features_svc = ['L4_DST_PORT', 'PROTOCOL', 'OUT_PKTS', 'CLIENT_TCP_FLAGS',\n",
    "       'SERVER_TCP_FLAGS', 'DURATION_IN', 'DURATION_OUT', 'MAX_TTL',\n",
    "       'MIN_IP_PKT_LEN', 'DST_TO_SRC_SECOND_BYTES', 'RETRANSMITTED_IN_PKTS',\n",
    "       'RETRANSMITTED_OUT_PKTS', 'NUM_PKTS_UP_TO_128_BYTES',\n",
    "       'NUM_PKTS_256_TO_512_BYTES', 'NUM_PKTS_512_TO_1024_BYTES',\n",
    "       'DNS_TTL_ANSWER']\n",
    "\n",
    "count_features()"
   ]
  },
  {
   "cell_type": "markdown",
   "metadata": {},
   "source": [
    "# 3_CSE-CIC-IDS2018"
   ]
  },
  {
   "cell_type": "code",
   "execution_count": 23,
   "metadata": {},
   "outputs": [
    {
     "name": "stdout",
     "output_type": "stream",
     "text": [
      "[('Bwd Pkt Len Std', 4), ('Pkt Len Std', 4), ('ACK Flag Cnt', 4), ('Init Bwd Win Byts', 4), ('Fwd Seg Size Min', 4), ('Pkt Len Max', 3), ('Pkt Len Mean', 3), ('Pkt Len Var', 3), ('RST Flag Cnt', 3), ('ECE Flag Cnt', 3), ('Pkt Size Avg', 3), ('Bwd Seg Size Avg', 3), ('Protocol', 2), ('Flow Duration', 2), ('Fwd Pkt Len Min', 2), ('Bwd Pkt Len Max', 2), ('Bwd Pkt Len Min', 2), ('Bwd Pkt Len Mean', 2), ('Fwd IAT Tot', 2), ('Pkt Len Min', 2), ('Flow Pkts/s', 2), ('Flow IAT Mean', 2), ('Flow IAT Min', 2), ('Fwd IAT Mean', 2), ('Fwd IAT Min', 2), ('Fwd Pkts/s', 2), ('Dst Port', 1), ('Bwd IAT Tot', 1), ('FIN Flag Cnt', 1), ('Flow IAT Max', 1), ('Idle Max', 1)]\n"
     ]
    }
   ],
   "source": [
    "features_corr = ['Protocol', 'Flow Duration', 'Fwd Pkt Len Min', 'Bwd Pkt Len Max',\n",
    "       'Bwd Pkt Len Min', 'Bwd Pkt Len Mean', 'Bwd Pkt Len Std', 'Fwd IAT Tot',\n",
    "       'Pkt Len Min', 'Pkt Len Max', 'Pkt Len Mean', 'Pkt Len Std',\n",
    "       'Pkt Len Var', 'RST Flag Cnt', 'ACK Flag Cnt', 'ECE Flag Cnt',\n",
    "       'Pkt Size Avg', 'Bwd Seg Size Avg', 'Init Bwd Win Byts',\n",
    "       'Fwd Seg Size Min']\n",
    "\n",
    "features_pvalue = ['Protocol', 'Flow Duration', 'Fwd Pkt Len Min', 'Bwd Pkt Len Max',\n",
    "       'Bwd Pkt Len Min', 'Bwd Pkt Len Mean', 'Bwd Pkt Len Std', 'Fwd IAT Tot',\n",
    "       'Pkt Len Min', 'Pkt Len Max', 'Pkt Len Mean', 'Pkt Len Std',\n",
    "       'Pkt Len Var', 'RST Flag Cnt', 'ACK Flag Cnt', 'ECE Flag Cnt',\n",
    "       'Pkt Size Avg', 'Bwd Seg Size Avg', 'Init Bwd Win Byts',\n",
    "       'Fwd Seg Size Min']\n",
    "\n",
    "features_dtree = ['Dst Port', 'Bwd Seg Size Avg']\n",
    "\n",
    "features_lr = ['Bwd Pkt Len Std', 'Flow Pkts/s', 'Flow IAT Mean', 'Flow IAT Min',\n",
    "       'Fwd IAT Mean', 'Fwd IAT Min', 'Bwd IAT Tot', 'Fwd Pkts/s',\n",
    "       'Pkt Len Max', 'Pkt Len Std', 'FIN Flag Cnt', 'RST Flag Cnt',\n",
    "       'ACK Flag Cnt', 'ECE Flag Cnt', 'Init Bwd Win Byts',\n",
    "       'Fwd Seg Size Min']\n",
    "\n",
    "features_svc = ['Bwd Pkt Len Std', 'Flow Pkts/s', 'Flow IAT Mean', 'Flow IAT Max',\n",
    "       'Flow IAT Min', 'Fwd IAT Mean', 'Fwd IAT Min', 'Fwd Pkts/s',\n",
    "       'Pkt Len Mean', 'Pkt Len Std', 'Pkt Len Var', 'ACK Flag Cnt',\n",
    "       'Pkt Size Avg', 'Init Bwd Win Byts', 'Fwd Seg Size Min', 'Idle Max']\n",
    "\n",
    "count_features()"
   ]
  },
  {
   "cell_type": "markdown",
   "metadata": {},
   "source": [
    "# 4_NSL-KDD"
   ]
  },
  {
   "cell_type": "code",
   "execution_count": 24,
   "metadata": {},
   "outputs": [
    {
     "name": "stdout",
     "output_type": "stream",
     "text": [
      "[('protocol_type', 5), ('flag', 5), ('count', 4), ('srv_serror_rate', 4), ('srv_rerror_rate', 4), ('dst_host_srv_count', 4), ('dst_host_same_srv_rate', 4), ('dst_host_count', 3), ('dst_host_diff_srv_rate', 3), ('dst_host_srv_serror_rate', 3), ('dst_host_rerror_rate', 3), ('service', 2), ('logged_in', 2), ('serror_rate', 2), ('rerror_rate', 2), ('same_srv_rate', 2), ('diff_srv_rate', 2), ('srv_diff_host_rate', 2), ('dst_host_serror_rate', 2), ('dst_host_srv_rerror_rate', 2), ('dst_host_srv_diff_host_rate', 2), ('wrong_fragment', 2), ('num_failed_logins', 2), ('su_attempted', 2), ('is_host_login', 2), ('is_guest_login', 2), ('srv_count', 1), ('src_bytes', 1), ('urgent', 1), ('num_file_creations', 1), ('num_shells', 1), ('num_access_files', 1)]\n"
     ]
    }
   ],
   "source": [
    "features_corr = ['protocol_type', 'service', 'flag', 'logged_in', 'count', 'serror_rate',\n",
    "       'srv_serror_rate', 'rerror_rate', 'srv_rerror_rate', 'same_srv_rate',\n",
    "       'diff_srv_rate', 'srv_diff_host_rate', 'dst_host_count',\n",
    "       'dst_host_srv_count', 'dst_host_same_srv_rate',\n",
    "       'dst_host_diff_srv_rate', 'dst_host_serror_rate',\n",
    "       'dst_host_srv_serror_rate', 'dst_host_rerror_rate',\n",
    "       'dst_host_srv_rerror_rate']\n",
    "\n",
    "features_pvalue = ['protocol_type', 'service', 'flag', 'logged_in', 'count', 'serror_rate',\n",
    "       'srv_serror_rate', 'rerror_rate', 'srv_rerror_rate', 'same_srv_rate',\n",
    "       'diff_srv_rate', 'srv_diff_host_rate', 'dst_host_count',\n",
    "       'dst_host_srv_count', 'dst_host_same_srv_rate',\n",
    "       'dst_host_diff_srv_rate', 'dst_host_serror_rate',\n",
    "       'dst_host_srv_serror_rate', 'dst_host_rerror_rate',\n",
    "       'dst_host_srv_rerror_rate']\n",
    "\n",
    "features_dtree = ['protocol_type', 'flag', 'dst_host_diff_srv_rate',\n",
    "       'dst_host_srv_diff_host_rate', 'dst_host_rerror_rate']\n",
    "\n",
    "features_lr = ['protocol_type', 'flag', 'wrong_fragment', 'num_failed_logins',\n",
    "       'su_attempted', 'is_host_login', 'is_guest_login', 'count', 'srv_count',\n",
    "       'srv_serror_rate', 'srv_rerror_rate', 'dst_host_count',\n",
    "       'dst_host_srv_count', 'dst_host_same_srv_rate',\n",
    "       'dst_host_srv_diff_host_rate', 'dst_host_srv_serror_rate']\n",
    "\n",
    "features_svc = ['protocol_type', 'flag', 'src_bytes', 'wrong_fragment', 'urgent',\n",
    "       'num_failed_logins', 'su_attempted', 'num_file_creations', 'num_shells',\n",
    "       'num_access_files', 'is_host_login', 'is_guest_login', 'count',\n",
    "       'srv_serror_rate', 'srv_rerror_rate', 'dst_host_srv_count',\n",
    "       'dst_host_same_srv_rate']\n",
    "\n",
    "count_features()"
   ]
  },
  {
   "cell_type": "code",
   "execution_count": null,
   "metadata": {},
   "outputs": [],
   "source": []
  }
 ],
 "metadata": {
  "kernelspec": {
   "display_name": "Python 3.9.13 64-bit",
   "language": "python",
   "name": "python3"
  },
  "language_info": {
   "codemirror_mode": {
    "name": "ipython",
    "version": 3
   },
   "file_extension": ".py",
   "mimetype": "text/x-python",
   "name": "python",
   "nbconvert_exporter": "python",
   "pygments_lexer": "ipython3",
   "version": "3.9.13 (tags/v3.9.13:6de2ca5, May 17 2022, 16:36:42) [MSC v.1929 64 bit (AMD64)]"
  },
  "orig_nbformat": 4,
  "vscode": {
   "interpreter": {
    "hash": "b5e66119bb7eb320cb615f17e3cf77c9243e0a63123323491c6aa600a9594b9f"
   }
  }
 },
 "nbformat": 4,
 "nbformat_minor": 2
}
